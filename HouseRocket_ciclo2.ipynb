{
 "cells": [
  {
   "cell_type": "markdown",
   "id": "cf54b922",
   "metadata": {},
   "source": [
    "# Projeto Insights - House Rocket Plataforma de Compra e Venda de Imóveis"
   ]
  },
  {
   "cell_type": "markdown",
   "id": "0f3e5c80",
   "metadata": {},
   "source": [
    "## Ciclo 2"
   ]
  },
  {
   "cell_type": "markdown",
   "id": "13a9abd7",
   "metadata": {},
   "source": [
    "### 1. Problema do negócio"
   ]
  },
  {
   "cell_type": "markdown",
   "id": "5147db9c",
   "metadata": {},
   "source": [
    "A empresa se trata de uma plataforma de compra e venda de imóveis e precisa buscar oportunidades de compras e de venda por preços maiores que aqueles preços de aquisição. Portanto, o CEO da empresa gostaria de maximizar o lucro encontrando bons negócios e para tal gostaria de ter visibilidade das oportunidades. \n",
    "\n",
    "Atualmente ele utiliza fontes externas com internet e boca-a-boca para a sua investigação. Por isso, agora o CEO espera utilizar do time de cientísta de dados para que a base de dados seja avaliada a fim de que as boas oportunidades sejam identificadas de uma forma técnica.\n",
    "\n",
    "As perguntas do CEO para a análise exploratória no ciclo 2 são:\n",
    "(Respondidas no ciclo 1)\n",
    "1) Quantas casas estão disponíveis para compra? (Respondidas no ciclo 1)<br>\n",
    "2) Quantos atributos os imóveis possuem? (Respondidas no ciclo 1)<br>\n",
    "3) Quais são os atributos?(Respondidas no ciclo 1)<br>\n",
    "4) Qual a casa mais cara do portifólio?(Respondidas no ciclo 1)<br>\n",
    "5) Qual a casa com o maior número de quartos?(Respondidas no ciclo 1)<br>\n",
    "\n",
    "6) Qual a soma total de quartos do conjunto de dados?<br>\n",
    "7) Quantas casas possuem 2 banheiros?<br>\n",
    "8) Qual o preço médio de todas as casas do conjunto de dados?<br>\n",
    "9) Qual o preço médio de casas com 2 banheiros?<br>\n",
    "10) Qual o preço mínimo entre as casas com 3 quartos?<br>\n",
    "\n",
    "11) Quantas casas possuem mais de 300 metros quadrados de sala de estar?<br>\n",
    "12) Quantas casas têm mais de 2 andares?<br>\n",
    "13) Quantas casas têm vista para o mar?<br>\n",
    "14) Das casas com  vista para o mar, quantas têm 3 quartos?<br>\n",
    "15) Das casas com mais de 300 metros quadrados de sala de estar, quantas têm mais de 2 banheiros?"
   ]
  },
  {
   "cell_type": "markdown",
   "id": "a0aba0dc",
   "metadata": {},
   "source": [
    "### 2. Planejamento da solução"
   ]
  },
  {
   "cell_type": "markdown",
   "id": "a399c9b8",
   "metadata": {},
   "source": [
    "##### 2.1. Planejamento do produto final\n",
    "- O que eu vou entregar (output - texto, e-mail, modelo de machine learning)<br>\n",
    "Nesse caso será entregue um texto com as respostas.<br>\n",
    "- Como será a entrega? (planilha, power bi, quais os tipos de gráficos...)<br>\n",
    "Texto estilo de perguntas e respostas.\n",
    "\n",
    "##### 2.2. Planejamento do processo (Como vai responder as perguntas)\n",
    "- Onde estão as informações? Excel, BD, API, UpLoad?<br>\n",
    "As informações estão no Kagle: https://www.kaggle.com/datasets/harlfoxem/housesalesprediction\n",
    "\n",
    "- Como as informações serão coletadas? SQL, Python, Streamlit...\n",
    "Para que o datasset seja lido utilizaremos extração com Python, utilizando a biblioteca Pandas para a estruturação do DataFrame.\n",
    "\n",
    "##### 2.3. Planejamento das ferramentas que irá utilizar\n",
    "Utilizaremos para o projeto Python 3.8.8, além do Jupyter Notebook disponível no navegador no Anaconda."
   ]
  },
  {
   "cell_type": "code",
   "execution_count": 1,
   "id": "4c08f44d",
   "metadata": {
    "ExecuteTime": {
     "end_time": "2022-05-17T19:10:09.598189Z",
     "start_time": "2022-05-17T19:10:08.816294Z"
    }
   },
   "outputs": [],
   "source": [
    "#Imports\n",
    "import pandas as pd\n",
    "import numpy as np"
   ]
  },
  {
   "cell_type": "code",
   "execution_count": 2,
   "id": "e02adf1a",
   "metadata": {
    "ExecuteTime": {
     "end_time": "2022-05-17T19:10:56.280068Z",
     "start_time": "2022-05-17T19:10:56.137054Z"
    }
   },
   "outputs": [],
   "source": [
    "#baixando o Dataset\n",
    "data = pd.read_csv('Datasets/Kc_house_data.csv')"
   ]
  },
  {
   "cell_type": "code",
   "execution_count": 5,
   "id": "546bd850",
   "metadata": {
    "ExecuteTime": {
     "end_time": "2022-05-17T19:11:38.892900Z",
     "start_time": "2022-05-17T19:11:38.830647Z"
    },
    "scrolled": false
   },
   "outputs": [
    {
     "data": {
      "text/html": [
       "<div>\n",
       "<style scoped>\n",
       "    .dataframe tbody tr th:only-of-type {\n",
       "        vertical-align: middle;\n",
       "    }\n",
       "\n",
       "    .dataframe tbody tr th {\n",
       "        vertical-align: top;\n",
       "    }\n",
       "\n",
       "    .dataframe thead th {\n",
       "        text-align: right;\n",
       "    }\n",
       "</style>\n",
       "<table border=\"1\" class=\"dataframe\">\n",
       "  <thead>\n",
       "    <tr style=\"text-align: right;\">\n",
       "      <th></th>\n",
       "      <th>id</th>\n",
       "      <th>date</th>\n",
       "      <th>price</th>\n",
       "      <th>bedrooms</th>\n",
       "      <th>bathrooms</th>\n",
       "      <th>sqft_living</th>\n",
       "      <th>sqft_lot</th>\n",
       "      <th>floors</th>\n",
       "      <th>waterfront</th>\n",
       "      <th>view</th>\n",
       "      <th>...</th>\n",
       "      <th>grade</th>\n",
       "      <th>sqft_above</th>\n",
       "      <th>sqft_basement</th>\n",
       "      <th>yr_built</th>\n",
       "      <th>yr_renovated</th>\n",
       "      <th>zipcode</th>\n",
       "      <th>lat</th>\n",
       "      <th>long</th>\n",
       "      <th>sqft_living15</th>\n",
       "      <th>sqft_lot15</th>\n",
       "    </tr>\n",
       "  </thead>\n",
       "  <tbody>\n",
       "    <tr>\n",
       "      <th>0</th>\n",
       "      <td>7129300520</td>\n",
       "      <td>20141013T000000</td>\n",
       "      <td>221900.0</td>\n",
       "      <td>3</td>\n",
       "      <td>1.00</td>\n",
       "      <td>1180</td>\n",
       "      <td>5650</td>\n",
       "      <td>1.0</td>\n",
       "      <td>0</td>\n",
       "      <td>0</td>\n",
       "      <td>...</td>\n",
       "      <td>7</td>\n",
       "      <td>1180</td>\n",
       "      <td>0</td>\n",
       "      <td>1955</td>\n",
       "      <td>0</td>\n",
       "      <td>98178</td>\n",
       "      <td>47.5112</td>\n",
       "      <td>-122.257</td>\n",
       "      <td>1340</td>\n",
       "      <td>5650</td>\n",
       "    </tr>\n",
       "    <tr>\n",
       "      <th>1</th>\n",
       "      <td>6414100192</td>\n",
       "      <td>20141209T000000</td>\n",
       "      <td>538000.0</td>\n",
       "      <td>3</td>\n",
       "      <td>2.25</td>\n",
       "      <td>2570</td>\n",
       "      <td>7242</td>\n",
       "      <td>2.0</td>\n",
       "      <td>0</td>\n",
       "      <td>0</td>\n",
       "      <td>...</td>\n",
       "      <td>7</td>\n",
       "      <td>2170</td>\n",
       "      <td>400</td>\n",
       "      <td>1951</td>\n",
       "      <td>1991</td>\n",
       "      <td>98125</td>\n",
       "      <td>47.7210</td>\n",
       "      <td>-122.319</td>\n",
       "      <td>1690</td>\n",
       "      <td>7639</td>\n",
       "    </tr>\n",
       "    <tr>\n",
       "      <th>2</th>\n",
       "      <td>5631500400</td>\n",
       "      <td>20150225T000000</td>\n",
       "      <td>180000.0</td>\n",
       "      <td>2</td>\n",
       "      <td>1.00</td>\n",
       "      <td>770</td>\n",
       "      <td>10000</td>\n",
       "      <td>1.0</td>\n",
       "      <td>0</td>\n",
       "      <td>0</td>\n",
       "      <td>...</td>\n",
       "      <td>6</td>\n",
       "      <td>770</td>\n",
       "      <td>0</td>\n",
       "      <td>1933</td>\n",
       "      <td>0</td>\n",
       "      <td>98028</td>\n",
       "      <td>47.7379</td>\n",
       "      <td>-122.233</td>\n",
       "      <td>2720</td>\n",
       "      <td>8062</td>\n",
       "    </tr>\n",
       "    <tr>\n",
       "      <th>3</th>\n",
       "      <td>2487200875</td>\n",
       "      <td>20141209T000000</td>\n",
       "      <td>604000.0</td>\n",
       "      <td>4</td>\n",
       "      <td>3.00</td>\n",
       "      <td>1960</td>\n",
       "      <td>5000</td>\n",
       "      <td>1.0</td>\n",
       "      <td>0</td>\n",
       "      <td>0</td>\n",
       "      <td>...</td>\n",
       "      <td>7</td>\n",
       "      <td>1050</td>\n",
       "      <td>910</td>\n",
       "      <td>1965</td>\n",
       "      <td>0</td>\n",
       "      <td>98136</td>\n",
       "      <td>47.5208</td>\n",
       "      <td>-122.393</td>\n",
       "      <td>1360</td>\n",
       "      <td>5000</td>\n",
       "    </tr>\n",
       "    <tr>\n",
       "      <th>4</th>\n",
       "      <td>1954400510</td>\n",
       "      <td>20150218T000000</td>\n",
       "      <td>510000.0</td>\n",
       "      <td>3</td>\n",
       "      <td>2.00</td>\n",
       "      <td>1680</td>\n",
       "      <td>8080</td>\n",
       "      <td>1.0</td>\n",
       "      <td>0</td>\n",
       "      <td>0</td>\n",
       "      <td>...</td>\n",
       "      <td>8</td>\n",
       "      <td>1680</td>\n",
       "      <td>0</td>\n",
       "      <td>1987</td>\n",
       "      <td>0</td>\n",
       "      <td>98074</td>\n",
       "      <td>47.6168</td>\n",
       "      <td>-122.045</td>\n",
       "      <td>1800</td>\n",
       "      <td>7503</td>\n",
       "    </tr>\n",
       "  </tbody>\n",
       "</table>\n",
       "<p>5 rows × 21 columns</p>\n",
       "</div>"
      ],
      "text/plain": [
       "           id             date     price  bedrooms  bathrooms  sqft_living  \\\n",
       "0  7129300520  20141013T000000  221900.0         3       1.00         1180   \n",
       "1  6414100192  20141209T000000  538000.0         3       2.25         2570   \n",
       "2  5631500400  20150225T000000  180000.0         2       1.00          770   \n",
       "3  2487200875  20141209T000000  604000.0         4       3.00         1960   \n",
       "4  1954400510  20150218T000000  510000.0         3       2.00         1680   \n",
       "\n",
       "   sqft_lot  floors  waterfront  view  ...  grade  sqft_above  sqft_basement  \\\n",
       "0      5650     1.0           0     0  ...      7        1180              0   \n",
       "1      7242     2.0           0     0  ...      7        2170            400   \n",
       "2     10000     1.0           0     0  ...      6         770              0   \n",
       "3      5000     1.0           0     0  ...      7        1050            910   \n",
       "4      8080     1.0           0     0  ...      8        1680              0   \n",
       "\n",
       "   yr_built  yr_renovated  zipcode      lat     long  sqft_living15  \\\n",
       "0      1955             0    98178  47.5112 -122.257           1340   \n",
       "1      1951          1991    98125  47.7210 -122.319           1690   \n",
       "2      1933             0    98028  47.7379 -122.233           2720   \n",
       "3      1965             0    98136  47.5208 -122.393           1360   \n",
       "4      1987             0    98074  47.6168 -122.045           1800   \n",
       "\n",
       "   sqft_lot15  \n",
       "0        5650  \n",
       "1        7639  \n",
       "2        8062  \n",
       "3        5000  \n",
       "4        7503  \n",
       "\n",
       "[5 rows x 21 columns]"
      ]
     },
     "execution_count": 5,
     "metadata": {},
     "output_type": "execute_result"
    }
   ],
   "source": [
    "#testando o dataset\n",
    "data.head()"
   ]
  },
  {
   "cell_type": "code",
   "execution_count": 33,
   "id": "7ba4a8f6",
   "metadata": {
    "ExecuteTime": {
     "end_time": "2022-05-17T19:31:03.413288Z",
     "start_time": "2022-05-17T19:31:03.407291Z"
    }
   },
   "outputs": [],
   "source": [
    "#Setando casas decimais no Dataset \n",
    "#Função para supressão de notação científica dos números\n",
    "pd.set_option('display.float_format', lambda x: '%.2f' % x)"
   ]
  },
  {
   "cell_type": "code",
   "execution_count": 34,
   "id": "383b3af7",
   "metadata": {
    "ExecuteTime": {
     "end_time": "2022-05-17T19:31:05.701155Z",
     "start_time": "2022-05-17T19:31:05.647267Z"
    }
   },
   "outputs": [
    {
     "name": "stdout",
     "output_type": "stream",
     "text": [
      "id                        int64\n",
      "date             datetime64[ns]\n",
      "price                   float64\n",
      "bedrooms                  int64\n",
      "bathrooms               float64\n",
      "sqft_living               int64\n",
      "sqft_lot                  int64\n",
      "floors                  float64\n",
      "waterfront                int64\n",
      "view                      int64\n",
      "condition                 int64\n",
      "grade                     int64\n",
      "sqft_above                int64\n",
      "sqft_basement             int64\n",
      "yr_built                  int64\n",
      "yr_renovated              int64\n",
      "zipcode                   int64\n",
      "lat                     float64\n",
      "long                    float64\n",
      "sqft_living15             int64\n",
      "sqft_lot15                int64\n",
      "dtype: object\n"
     ]
    }
   ],
   "source": [
    "#Avaliando os tipos de variáveis para correções\n",
    "print(data.dtypes)\n",
    "#corrigindo a variável Date por ser string e por ter que ser date\n",
    "data['date'] = pd.to_datetime(data['date'])"
   ]
  },
  {
   "cell_type": "markdown",
   "id": "14ee72e8",
   "metadata": {},
   "source": [
    "### Respondendo as questões do CEO"
   ]
  },
  {
   "cell_type": "code",
   "execution_count": 35,
   "id": "4b7cf9a6",
   "metadata": {
    "ExecuteTime": {
     "end_time": "2022-05-17T19:31:07.999866Z",
     "start_time": "2022-05-17T19:31:07.987871Z"
    }
   },
   "outputs": [
    {
     "data": {
      "text/plain": [
       "72854"
      ]
     },
     "execution_count": 35,
     "metadata": {},
     "output_type": "execute_result"
    }
   ],
   "source": [
    "#6) Qual a soma total de quartos do conjunto de dados?<br>\n",
    "data['bedrooms'].sum()"
   ]
  },
  {
   "cell_type": "code",
   "execution_count": 36,
   "id": "2f1fdd9e",
   "metadata": {
    "ExecuteTime": {
     "end_time": "2022-05-17T19:31:08.669353Z",
     "start_time": "2022-05-17T19:31:08.647931Z"
    }
   },
   "outputs": [
    {
     "data": {
      "text/plain": [
       "1930"
      ]
     },
     "execution_count": 36,
     "metadata": {},
     "output_type": "execute_result"
    }
   ],
   "source": [
    "#7) Quantas casas possuem 2 banheiros?<br>\n",
    "(data['bathrooms'] == 2).sum()"
   ]
  },
  {
   "cell_type": "code",
   "execution_count": 37,
   "id": "97f4ac4a",
   "metadata": {
    "ExecuteTime": {
     "end_time": "2022-05-17T19:31:10.861894Z",
     "start_time": "2022-05-17T19:31:10.840927Z"
    }
   },
   "outputs": [
    {
     "data": {
      "text/plain": [
       "540088.1417665294"
      ]
     },
     "execution_count": 37,
     "metadata": {},
     "output_type": "execute_result"
    }
   ],
   "source": [
    "#8) Qual o preço médio de todas as casas do conjunto de dados?<br>\n",
    "data['price'].mean()"
   ]
  },
  {
   "cell_type": "code",
   "execution_count": 40,
   "id": "a7fab027",
   "metadata": {
    "ExecuteTime": {
     "end_time": "2022-05-17T19:37:19.298952Z",
     "start_time": "2022-05-17T19:37:19.281942Z"
    }
   },
   "outputs": [
    {
     "data": {
      "text/plain": [
       "457889.7186528497"
      ]
     },
     "execution_count": 40,
     "metadata": {},
     "output_type": "execute_result"
    }
   ],
   "source": [
    "#9) Qual o preço médio de casas com 2 banheiros?<br>\n",
    "data['price'][data['bathrooms'] == 2].mean()"
   ]
  },
  {
   "cell_type": "code",
   "execution_count": 41,
   "id": "327e1454",
   "metadata": {
    "ExecuteTime": {
     "end_time": "2022-05-17T19:38:24.286090Z",
     "start_time": "2022-05-17T19:38:24.273096Z"
    }
   },
   "outputs": [
    {
     "data": {
      "text/plain": [
       "75000.0"
      ]
     },
     "execution_count": 41,
     "metadata": {},
     "output_type": "execute_result"
    }
   ],
   "source": [
    "#10) Qual o preço mínimo entre as casas com 3 quartos?<br>\n",
    "data['price'].min()"
   ]
  },
  {
   "cell_type": "code",
   "execution_count": null,
   "id": "3bcc8dae",
   "metadata": {},
   "outputs": [],
   "source": [
    "#11) Quantas casas possuem mais de 300 metros quadrados de sala de estar?<br>\n",
    "#12) Quantas casas têm mais de 2 andares?<br>\n",
    "#13) Quantas casas têm vista para o mar?<br>\n",
    "#14) Das casas com  vista para o mar, quantas têm 3 quartos?<br>\n",
    "#15) Das casas com mais de 300 metros quadrados de sala de estar, quantas têm mais de 2 banheiros?"
   ]
  }
 ],
 "metadata": {
  "kernelspec": {
   "display_name": "Python 3 (ipykernel)",
   "language": "python",
   "name": "python3"
  },
  "language_info": {
   "codemirror_mode": {
    "name": "ipython",
    "version": 3
   },
   "file_extension": ".py",
   "mimetype": "text/x-python",
   "name": "python",
   "nbconvert_exporter": "python",
   "pygments_lexer": "ipython3",
   "version": "3.8.13"
  },
  "varInspector": {
   "cols": {
    "lenName": 16,
    "lenType": 16,
    "lenVar": 40
   },
   "kernels_config": {
    "python": {
     "delete_cmd_postfix": "",
     "delete_cmd_prefix": "del ",
     "library": "var_list.py",
     "varRefreshCmd": "print(var_dic_list())"
    },
    "r": {
     "delete_cmd_postfix": ") ",
     "delete_cmd_prefix": "rm(",
     "library": "var_list.r",
     "varRefreshCmd": "cat(var_dic_list()) "
    }
   },
   "types_to_exclude": [
    "module",
    "function",
    "builtin_function_or_method",
    "instance",
    "_Feature"
   ],
   "window_display": false
  }
 },
 "nbformat": 4,
 "nbformat_minor": 5
}
