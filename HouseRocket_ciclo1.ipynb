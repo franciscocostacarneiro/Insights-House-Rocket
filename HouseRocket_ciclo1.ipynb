{
 "cells": [
  {
   "cell_type": "markdown",
   "id": "4f56bf40",
   "metadata": {},
   "source": [
    "# Projeto Insights - House Rocket Plataforma de Compra e Venda de Imóveis"
   ]
  },
  {
   "cell_type": "markdown",
   "id": "6e926fb9",
   "metadata": {},
   "source": [
    "## Ciclo 1"
   ]
  },
  {
   "cell_type": "markdown",
   "id": "1980d342",
   "metadata": {},
   "source": [
    "### 1. Problema do negócio"
   ]
  },
  {
   "cell_type": "markdown",
   "id": "10e19c71",
   "metadata": {},
   "source": [
    "A empresa se trata de uma plataforma de compra e venda de imóveis e precisa buscar oportunidades de compras e de venda por preços maiores que aqueles preços de aquisição. Portanto, o CEO da empresa gostaria de maximizar o lucro encontrando bons negócios e para tal gostaria de ter visibilidade das oportunidades. \n",
    "\n",
    "Atualmente ele utiliza fontes externas com internet e boca-a-boca para a sua investigação. Por isso, agora o CEO espera utilizar do time de cientísta de dados para que a base de dados seja avaliada a fim de que as boas oportunidades sejam identificadas de uma forma técnica.\n",
    "\n",
    "As perguntas do CEO para a análise exploratória são:\n",
    "\n",
    "1) Quantas casas estão disponíveis para compra?<br>\n",
    "2) Quantos atributos os imóveis possuem?<br>\n",
    "3) Quais são os atributos?<br>\n",
    "4) Qual a casa mais cara do portifólio?<br>\n",
    "5) Qual a casa com o maior número de quartos?"
   ]
  },
  {
   "cell_type": "markdown",
   "id": "faf56c09",
   "metadata": {},
   "source": [
    "### 2. Planejamento da solução"
   ]
  },
  {
   "cell_type": "markdown",
   "id": "425f68d4",
   "metadata": {},
   "source": [
    "##### 2.1. Planejamento do produto final\n",
    "- O que eu vou entregar (output - texto, e-mail, modelo de machine learning)<br>\n",
    "Nesse caso será entregue um texto com as respostas.<br>\n",
    "- Como será a entrega? (planilha, power bi, quais os tipos de gráficos...)<br>\n",
    "Texto estilo de perguntas e respostas.\n",
    "\n",
    "##### 2.2. Planejamento do processo (Como vai responder as perguntas)\n",
    "- Onde estão as informações? Excel, BD, API, UpLoad?<br>\n",
    "As informações estão no Kagle: https://www.kaggle.com/datasets/harlfoxem/housesalesprediction\n",
    "\n",
    "- Como as informações serão coletadas? SQL, Python, Streamlit...\n",
    "Para que o datasset seja lido utilizaremos extração com Python, utilizando a biblioteca Pandas para a estruturação do DataFrame.\n",
    "\n",
    "##### 2.3. Planejamento das ferramentas que irá utilizar\n",
    "Utilizaremos para o projeto Python 3.8.8, além do Jupyter Notebook disponível no navegador no Anaconda."
   ]
  },
  {
   "cell_type": "code",
   "execution_count": 1,
   "id": "8408b013",
   "metadata": {
    "ExecuteTime": {
     "end_time": "2022-05-17T19:42:29.421188Z",
     "start_time": "2022-05-17T19:42:28.330737Z"
    }
   },
   "outputs": [],
   "source": [
    "# Imports das bibliotecas utilizadas\n",
    "import pandas as pd\n",
    "import numpy as np"
   ]
  },
  {
   "cell_type": "code",
   "execution_count": 2,
   "id": "1a3df437",
   "metadata": {
    "ExecuteTime": {
     "end_time": "2022-05-17T19:42:29.514961Z",
     "start_time": "2022-05-17T19:42:29.424187Z"
    }
   },
   "outputs": [],
   "source": [
    "#Lendo o dataset extraído do Kagle\n",
    "data = pd.read_csv('Datasets/kc_house_data.csv')"
   ]
  },
  {
   "cell_type": "code",
   "execution_count": 3,
   "id": "2cc89f0e",
   "metadata": {
    "ExecuteTime": {
     "end_time": "2022-05-17T19:42:29.530953Z",
     "start_time": "2022-05-17T19:42:29.518961Z"
    },
    "scrolled": true
   },
   "outputs": [
    {
     "name": "stdout",
     "output_type": "stream",
     "text": [
      "(21613, 21)\n"
     ]
    }
   ],
   "source": [
    "#Avaliando a estrutura entre linhas e colunas\n",
    "print(data.shape)"
   ]
  },
  {
   "cell_type": "code",
   "execution_count": 4,
   "id": "4dcbf931",
   "metadata": {
    "ExecuteTime": {
     "end_time": "2022-05-17T19:42:29.577925Z",
     "start_time": "2022-05-17T19:42:29.534951Z"
    }
   },
   "outputs": [
    {
     "data": {
      "text/plain": [
       "21436"
      ]
     },
     "execution_count": 4,
     "metadata": {},
     "output_type": "execute_result"
    }
   ],
   "source": [
    "#Identificando número de linhas excluíndo ids duplicados\n",
    "data['id'].nunique()"
   ]
  },
  {
   "cell_type": "code",
   "execution_count": 5,
   "id": "b18ec7a6",
   "metadata": {
    "ExecuteTime": {
     "end_time": "2022-05-17T19:42:29.593356Z",
     "start_time": "2022-05-17T19:42:29.581925Z"
    },
    "scrolled": true
   },
   "outputs": [
    {
     "data": {
      "text/plain": [
       "Index(['id', 'date', 'price', 'bedrooms', 'bathrooms', 'sqft_living',\n",
       "       'sqft_lot', 'floors', 'waterfront', 'view', 'condition', 'grade',\n",
       "       'sqft_above', 'sqft_basement', 'yr_built', 'yr_renovated', 'zipcode',\n",
       "       'lat', 'long', 'sqft_living15', 'sqft_lot15'],\n",
       "      dtype='object')"
      ]
     },
     "execution_count": 5,
     "metadata": {},
     "output_type": "execute_result"
    }
   ],
   "source": [
    "#Avaliando as colunas/atributos\n",
    "data.columns"
   ]
  },
  {
   "cell_type": "code",
   "execution_count": 6,
   "id": "1968c7e1",
   "metadata": {
    "ExecuteTime": {
     "end_time": "2022-05-17T19:42:29.609095Z",
     "start_time": "2022-05-17T19:42:29.598102Z"
    },
    "scrolled": true
   },
   "outputs": [
    {
     "name": "stdout",
     "output_type": "stream",
     "text": [
      "id                 int64\n",
      "date              object\n",
      "price            float64\n",
      "bedrooms           int64\n",
      "bathrooms        float64\n",
      "sqft_living        int64\n",
      "sqft_lot           int64\n",
      "floors           float64\n",
      "waterfront         int64\n",
      "view               int64\n",
      "condition          int64\n",
      "grade              int64\n",
      "sqft_above         int64\n",
      "sqft_basement      int64\n",
      "yr_built           int64\n",
      "yr_renovated       int64\n",
      "zipcode            int64\n",
      "lat              float64\n",
      "long             float64\n",
      "sqft_living15      int64\n",
      "sqft_lot15         int64\n",
      "dtype: object\n"
     ]
    }
   ],
   "source": [
    "#Avaliando os tipos das colunas/atributos\n",
    "print(data.dtypes)"
   ]
  },
  {
   "cell_type": "code",
   "execution_count": 7,
   "id": "a9ded3b0",
   "metadata": {
    "ExecuteTime": {
     "end_time": "2022-05-17T19:42:29.641075Z",
     "start_time": "2022-05-17T19:42:29.614093Z"
    }
   },
   "outputs": [],
   "source": [
    "#Transformando os tipos inadequados dos atributos para tipos válidos\n",
    "#coluna 'date', que está como string e deve ser do tipo data\n",
    "data['date'] = pd.to_datetime(data['date'])"
   ]
  },
  {
   "cell_type": "code",
   "execution_count": 14,
   "id": "580ce971",
   "metadata": {
    "ExecuteTime": {
     "end_time": "2022-05-17T19:42:36.946652Z",
     "start_time": "2022-05-17T19:42:36.936659Z"
    },
    "scrolled": true
   },
   "outputs": [
    {
     "name": "stdout",
     "output_type": "stream",
     "text": [
      "id                        int64\n",
      "date             datetime64[ns]\n",
      "price                   float64\n",
      "bedrooms                  int64\n",
      "bathrooms               float64\n",
      "sqft_living               int64\n",
      "sqft_lot                  int64\n",
      "floors                  float64\n",
      "waterfront                int64\n",
      "view                      int64\n",
      "condition                 int64\n",
      "grade                     int64\n",
      "sqft_above                int64\n",
      "sqft_basement             int64\n",
      "yr_built                  int64\n",
      "yr_renovated              int64\n",
      "zipcode                   int64\n",
      "lat                     float64\n",
      "long                    float64\n",
      "sqft_living15             int64\n",
      "sqft_lot15                int64\n",
      "dtype: object\n"
     ]
    }
   ],
   "source": [
    "#Avaliando se a alteração foi realizada\n",
    "print(data.dtypes)"
   ]
  },
  {
   "cell_type": "markdown",
   "id": "365b53f4",
   "metadata": {
    "ExecuteTime": {
     "end_time": "2022-05-17T19:18:36.482328Z",
     "start_time": "2022-05-17T19:18:36.468335Z"
    }
   },
   "source": [
    "### Respondendo as questões do CEO"
   ]
  },
  {
   "cell_type": "code",
   "execution_count": 24,
   "id": "b1893d76",
   "metadata": {
    "ExecuteTime": {
     "end_time": "2022-05-17T19:57:53.947535Z",
     "start_time": "2022-05-17T19:57:53.924549Z"
    }
   },
   "outputs": [
    {
     "name": "stdout",
     "output_type": "stream",
     "text": [
      "O número de casa disponíveis é de 21436\n"
     ]
    }
   ],
   "source": [
    "# Pergunta 1 do CEO: Quantas casas estão disponíveis para compra?\n",
    "houses = data['id'].nunique()\n",
    "\n",
    "# ou\n",
    "\n",
    "len(data['id'].unique())\n",
    "\n",
    "# ou ainda\n",
    "\n",
    "len(data['id'].drop_duplicates())\n",
    "\n",
    "print('O número de casa disponíveis é de {}'.format(houses))"
   ]
  },
  {
   "cell_type": "code",
   "execution_count": 38,
   "id": "de84e528",
   "metadata": {
    "ExecuteTime": {
     "end_time": "2022-05-17T20:07:49.937739Z",
     "start_time": "2022-05-17T20:07:49.924745Z"
    }
   },
   "outputs": [
    {
     "name": "stdout",
     "output_type": "stream",
     "text": [
      "O número de casa disponíveis é de 19\n"
     ]
    }
   ],
   "source": [
    "# Pergunta 2: Quantos atributos os imóveis possuem? Sabendo que id e date não são características dos imóveis\n",
    "colunas = len(data.drop(['id', 'date'], axis=1).columns)\n",
    "\n",
    "print('O número de casa disponíveis é de {}'.format(colunas))"
   ]
  },
  {
   "cell_type": "code",
   "execution_count": 41,
   "id": "cc78d7d0",
   "metadata": {
    "ExecuteTime": {
     "end_time": "2022-05-17T20:13:38.345928Z",
     "start_time": "2022-05-17T20:13:38.328939Z"
    }
   },
   "outputs": [
    {
     "data": {
      "text/plain": [
       "['price',\n",
       " 'bedrooms',\n",
       " 'bathrooms',\n",
       " 'sqft_living',\n",
       " 'sqft_lot',\n",
       " 'floors',\n",
       " 'waterfront',\n",
       " 'view',\n",
       " 'condition',\n",
       " 'grade',\n",
       " 'sqft_above',\n",
       " 'sqft_basement',\n",
       " 'yr_built',\n",
       " 'yr_renovated',\n",
       " 'zipcode',\n",
       " 'lat',\n",
       " 'long',\n",
       " 'sqft_living15',\n",
       " 'sqft_lot15']"
      ]
     },
     "execution_count": 41,
     "metadata": {},
     "output_type": "execute_result"
    }
   ],
   "source": [
    "#3) Quais são os atributos, sabendo que o id e data não são características dos imóveis?\n",
    "data.drop(['id', 'date'], axis=1).columns.to_list()"
   ]
  },
  {
   "cell_type": "code",
   "execution_count": 46,
   "id": "00ec6f35",
   "metadata": {
    "ExecuteTime": {
     "end_time": "2022-05-17T20:25:21.453658Z",
     "start_time": "2022-05-17T20:25:21.433671Z"
    },
    "scrolled": true
   },
   "outputs": [
    {
     "name": "stdout",
     "output_type": "stream",
     "text": [
      "A casa mais cara do portifólio é a com id 6762700020\n"
     ]
    }
   ],
   "source": [
    "#4) Qual a casa mais cara do portifólio?\n",
    "preco_max = data[['id', 'price']].sort_values('price', ascending=False).reset_index(drop=True).loc[0,'id']\n",
    "print('A casa mais cara do portifólio é a com id {}'.format(preco_max))\n",
    "#ou data['price'].max()"
   ]
  },
  {
   "cell_type": "code",
   "execution_count": 44,
   "id": "58bcccb7",
   "metadata": {
    "ExecuteTime": {
     "end_time": "2022-05-17T20:22:59.596294Z",
     "start_time": "2022-05-17T20:22:59.577289Z"
    }
   },
   "outputs": [
    {
     "name": "stdout",
     "output_type": "stream",
     "text": [
      "A casa com o maior número de quartos é a com id 2402100895\n"
     ]
    }
   ],
   "source": [
    "#5) Qual a casa com o maior número de quartos?\n",
    "maior_quarto = data[['id','bedrooms']].sort_values('bedrooms', ascending=False).reset_index(drop=True).loc[0,'id']\n",
    "print('A casa com o maior número de quartos é a com id {}'.format(maior_quarto))\n",
    "#ou data['bedrooms'].max()"
   ]
  },
  {
   "cell_type": "code",
   "execution_count": null,
   "id": "aa059ab5",
   "metadata": {},
   "outputs": [],
   "source": []
  }
 ],
 "metadata": {
  "kernelspec": {
   "display_name": "Python 3 (ipykernel)",
   "language": "python",
   "name": "python3"
  },
  "language_info": {
   "codemirror_mode": {
    "name": "ipython",
    "version": 3
   },
   "file_extension": ".py",
   "mimetype": "text/x-python",
   "name": "python",
   "nbconvert_exporter": "python",
   "pygments_lexer": "ipython3",
   "version": "3.8.13"
  },
  "varInspector": {
   "cols": {
    "lenName": 16,
    "lenType": 16,
    "lenVar": 40
   },
   "kernels_config": {
    "python": {
     "delete_cmd_postfix": "",
     "delete_cmd_prefix": "del ",
     "library": "var_list.py",
     "varRefreshCmd": "print(var_dic_list())"
    },
    "r": {
     "delete_cmd_postfix": ") ",
     "delete_cmd_prefix": "rm(",
     "library": "var_list.r",
     "varRefreshCmd": "cat(var_dic_list()) "
    }
   },
   "types_to_exclude": [
    "module",
    "function",
    "builtin_function_or_method",
    "instance",
    "_Feature"
   ],
   "window_display": false
  }
 },
 "nbformat": 4,
 "nbformat_minor": 5
}
