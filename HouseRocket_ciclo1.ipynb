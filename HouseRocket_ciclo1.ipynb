{
 "cells": [
  {
   "cell_type": "markdown",
   "id": "4f56bf40",
   "metadata": {},
   "source": [
    "# Projeto Insights - House Rocket Plataforma de Compra e Venda de Imóveis"
   ]
  },
  {
   "cell_type": "markdown",
   "id": "6e926fb9",
   "metadata": {},
   "source": [
    "## Ciclo 1"
   ]
  },
  {
   "cell_type": "markdown",
   "id": "1980d342",
   "metadata": {},
   "source": [
    "### 1. Problema do negócio"
   ]
  },
  {
   "cell_type": "markdown",
   "id": "10e19c71",
   "metadata": {},
   "source": [
    "A empresa se trata de uma plataforma de compra e venda de imóveis e precisa buscar oportunidades de compras e de venda por preços maiores que aqueles preços de aquisição. Portanto, o CEO da empresa gostaria de maximizar o lucro encontrando bons negócios e para tal gostaria de ter visibilidade das oportunidades. \n",
    "\n",
    "Atualmente ele utiliza fontes externas com internet e boca-a-boca para a sua investigação. Por isso, agora o CEO espera utilizar do time de cientísta de dados para que a base de dados seja avaliada a fim de que as boas oportunidades sejam identificadas de uma forma técnica.\n",
    "\n",
    "As perguntas do CEO para a análise exploratória são:\n",
    "\n",
    "1) Quantas casas estão disponíveis para compra?<br>\n",
    "2) Quantos atributos os imóveis possuem?<br>\n",
    "3) Quais são os atributos?<br>\n",
    "4) Qual a casa mais cara do portifólio?<br>\n",
    "5) Qual a casa com o maior número de quartos?"
   ]
  },
  {
   "cell_type": "markdown",
   "id": "faf56c09",
   "metadata": {},
   "source": [
    "### 2. Planejamento da solução"
   ]
  },
  {
   "cell_type": "markdown",
   "id": "425f68d4",
   "metadata": {},
   "source": [
    "##### 2.1. Planejamento do produto final\n",
    "- O que eu vou entregar (output - texto, e-mail, modelo de machine learning)<br>\n",
    "Nesse caso será entregue um texto com as respostas.<br>\n",
    "- Como será a entrega? (planilha, power bi, quais os tipos de gráficos...)<br>\n",
    "Texto estilo de perguntas e respostas.\n",
    "\n",
    "##### 2.2. Planejamento do processo (Como vai responder as perguntas)\n",
    "- Onde estão as informações? Excel, BD, API, UpLoad?<br>\n",
    "As informações estão no Kagle: https://www.kaggle.com/datasets/harlfoxem/housesalesprediction\n",
    "\n",
    "- Como as informações serão coletadas? SQL, Python, Streamlit...\n",
    "Para que o datasset seja lido utilizaremos extração com Python, utilizando a biblioteca Pandas para a estruturação do DataFrame.\n",
    "\n",
    "##### 2.3. Planejamento das ferramentas que irá utilizar\n",
    "Utilizaremos para o projeto Python 3.8.8, além do Jupyter Notebook disponível no navegador no Anaconda."
   ]
  },
  {
   "cell_type": "code",
   "execution_count": 33,
   "id": "8408b013",
   "metadata": {
    "ExecuteTime": {
     "end_time": "2022-05-10T18:07:07.909272Z",
     "start_time": "2022-05-10T18:07:07.895281Z"
    }
   },
   "outputs": [],
   "source": [
    "# Imports das bibliotecas utilizadas\n",
    "import pandas as pd\n",
    "import numpy as np"
   ]
  },
  {
   "cell_type": "code",
   "execution_count": 3,
   "id": "1a3df437",
   "metadata": {
    "ExecuteTime": {
     "end_time": "2022-05-10T17:34:52.848936Z",
     "start_time": "2022-05-10T17:34:52.745751Z"
    }
   },
   "outputs": [],
   "source": [
    "#Lendo o dataset extraído do Kagle\n",
    "data = pd.read_csv('Datasets/kc_house_data.csv')"
   ]
  },
  {
   "cell_type": "code",
   "execution_count": 4,
   "id": "2cc89f0e",
   "metadata": {
    "ExecuteTime": {
     "end_time": "2022-05-10T17:35:05.418705Z",
     "start_time": "2022-05-10T17:35:05.403718Z"
    },
    "scrolled": true
   },
   "outputs": [
    {
     "name": "stdout",
     "output_type": "stream",
     "text": [
      "(21613, 21)\n"
     ]
    }
   ],
   "source": [
    "#Avaliando a estrutura entre linhas e colunas\n",
    "print(data.shape)"
   ]
  },
  {
   "cell_type": "code",
   "execution_count": 32,
   "id": "4dcbf931",
   "metadata": {
    "ExecuteTime": {
     "end_time": "2022-05-10T18:04:12.418062Z",
     "start_time": "2022-05-10T18:04:12.409088Z"
    }
   },
   "outputs": [
    {
     "data": {
      "text/plain": [
       "21436"
      ]
     },
     "execution_count": 32,
     "metadata": {},
     "output_type": "execute_result"
    }
   ],
   "source": [
    "#Identificando número de linhas excluíndo ids duplicados\n",
    "data['id'].nunique()"
   ]
  },
  {
   "cell_type": "code",
   "execution_count": 18,
   "id": "b18ec7a6",
   "metadata": {
    "ExecuteTime": {
     "end_time": "2022-05-10T17:40:03.095284Z",
     "start_time": "2022-05-10T17:40:03.082294Z"
    },
    "scrolled": true
   },
   "outputs": [
    {
     "data": {
      "text/plain": [
       "Index(['id', 'date', 'price', 'bedrooms', 'bathrooms', 'sqft_living',\n",
       "       'sqft_lot', 'floors', 'waterfront', 'view', 'condition', 'grade',\n",
       "       'sqft_above', 'sqft_basement', 'yr_built', 'yr_renovated', 'zipcode',\n",
       "       'lat', 'long', 'sqft_living15', 'sqft_lot15'],\n",
       "      dtype='object')"
      ]
     },
     "execution_count": 18,
     "metadata": {},
     "output_type": "execute_result"
    }
   ],
   "source": [
    "#Avaliando as colunas/atributos\n",
    "data.columns"
   ]
  },
  {
   "cell_type": "code",
   "execution_count": 19,
   "id": "1968c7e1",
   "metadata": {
    "ExecuteTime": {
     "end_time": "2022-05-10T17:41:01.495097Z",
     "start_time": "2022-05-10T17:41:01.482105Z"
    },
    "scrolled": true
   },
   "outputs": [
    {
     "name": "stdout",
     "output_type": "stream",
     "text": [
      "id                 int64\n",
      "date              object\n",
      "price            float64\n",
      "bedrooms           int64\n",
      "bathrooms        float64\n",
      "sqft_living        int64\n",
      "sqft_lot           int64\n",
      "floors           float64\n",
      "waterfront         int64\n",
      "view               int64\n",
      "condition          int64\n",
      "grade              int64\n",
      "sqft_above         int64\n",
      "sqft_basement      int64\n",
      "yr_built           int64\n",
      "yr_renovated       int64\n",
      "zipcode            int64\n",
      "lat              float64\n",
      "long             float64\n",
      "sqft_living15      int64\n",
      "sqft_lot15         int64\n",
      "dtype: object\n"
     ]
    }
   ],
   "source": [
    "#Avaliando os tipos das colunas/atributos\n",
    "print(data.dtypes)"
   ]
  },
  {
   "cell_type": "code",
   "execution_count": 24,
   "id": "a9ded3b0",
   "metadata": {
    "ExecuteTime": {
     "end_time": "2022-05-10T17:51:57.551543Z",
     "start_time": "2022-05-10T17:51:57.522513Z"
    }
   },
   "outputs": [],
   "source": [
    "#Transformando os tipos inadequados dos atributos para tipos válidos\n",
    "#coluna 'date', que está como string e deve ser do tipo data\n",
    "data['date'] = pd.to_datetime(data['date'])"
   ]
  },
  {
   "cell_type": "code",
   "execution_count": 26,
   "id": "580ce971",
   "metadata": {
    "ExecuteTime": {
     "end_time": "2022-05-10T17:52:47.158418Z",
     "start_time": "2022-05-10T17:52:47.138425Z"
    }
   },
   "outputs": [
    {
     "name": "stdout",
     "output_type": "stream",
     "text": [
      "id                        int64\n",
      "date             datetime64[ns]\n",
      "price                   float64\n",
      "bedrooms                  int64\n",
      "bathrooms               float64\n",
      "sqft_living               int64\n",
      "sqft_lot                  int64\n",
      "floors                  float64\n",
      "waterfront                int64\n",
      "view                      int64\n",
      "condition                 int64\n",
      "grade                     int64\n",
      "sqft_above                int64\n",
      "sqft_basement             int64\n",
      "yr_built                  int64\n",
      "yr_renovated              int64\n",
      "zipcode                   int64\n",
      "lat                     float64\n",
      "long                    float64\n",
      "sqft_living15             int64\n",
      "sqft_lot15                int64\n",
      "dtype: object\n"
     ]
    }
   ],
   "source": [
    "#Avaliando se a alteração foi realizada\n",
    "print(data.dtypes)"
   ]
  },
  {
   "cell_type": "code",
   "execution_count": 34,
   "id": "b1893d76",
   "metadata": {
    "ExecuteTime": {
     "end_time": "2022-05-10T18:09:54.508562Z",
     "start_time": "2022-05-10T18:09:54.486575Z"
    }
   },
   "outputs": [
    {
     "data": {
      "text/plain": [
       "21436"
      ]
     },
     "execution_count": 34,
     "metadata": {},
     "output_type": "execute_result"
    }
   ],
   "source": [
    "# Pergunta 1 do CEO: Quantas casas estão disponíveis para compra?\n",
    "data['id'].nunique()"
   ]
  },
  {
   "cell_type": "code",
   "execution_count": 42,
   "id": "de84e528",
   "metadata": {
    "ExecuteTime": {
     "end_time": "2022-05-10T18:14:09.450348Z",
     "start_time": "2022-05-10T18:14:09.439334Z"
    }
   },
   "outputs": [
    {
     "name": "stdout",
     "output_type": "stream",
     "text": [
      "(21613, 21)\n"
     ]
    }
   ],
   "source": [
    "# Pergunta 2: Quantos atributos os imóveis possuem?\n",
    "print(data.shape)"
   ]
  },
  {
   "cell_type": "code",
   "execution_count": 45,
   "id": "cc78d7d0",
   "metadata": {
    "ExecuteTime": {
     "end_time": "2022-05-10T18:14:45.449603Z",
     "start_time": "2022-05-10T18:14:45.431613Z"
    }
   },
   "outputs": [
    {
     "data": {
      "text/plain": [
       "['id',\n",
       " 'date',\n",
       " 'price',\n",
       " 'bedrooms',\n",
       " 'bathrooms',\n",
       " 'sqft_living',\n",
       " 'sqft_lot',\n",
       " 'floors',\n",
       " 'waterfront',\n",
       " 'view',\n",
       " 'condition',\n",
       " 'grade',\n",
       " 'sqft_above',\n",
       " 'sqft_basement',\n",
       " 'yr_built',\n",
       " 'yr_renovated',\n",
       " 'zipcode',\n",
       " 'lat',\n",
       " 'long',\n",
       " 'sqft_living15',\n",
       " 'sqft_lot15']"
      ]
     },
     "execution_count": 45,
     "metadata": {},
     "output_type": "execute_result"
    }
   ],
   "source": [
    "#3) Quais são os atributos?\n",
    "data.columns.tolist()"
   ]
  },
  {
   "cell_type": "code",
   "execution_count": 47,
   "id": "00ec6f35",
   "metadata": {
    "ExecuteTime": {
     "end_time": "2022-05-10T18:16:38.357572Z",
     "start_time": "2022-05-10T18:16:38.337584Z"
    },
    "scrolled": true
   },
   "outputs": [
    {
     "data": {
      "text/plain": [
       "7700000.0    1\n",
       "7062500.0    1\n",
       "6885000.0    1\n",
       "5570000.0    1\n",
       "5350000.0    1\n",
       "            ..\n",
       "82000.0      1\n",
       "81000.0      1\n",
       "80000.0      1\n",
       "78000.0      1\n",
       "75000.0      1\n",
       "Name: price, Length: 4028, dtype: int64"
      ]
     },
     "execution_count": 47,
     "metadata": {},
     "output_type": "execute_result"
    }
   ],
   "source": [
    "#4) Qual a casa mais cara do portifólio?\n",
    "data['price'].value_counts().sort_index(ascending=False)"
   ]
  },
  {
   "cell_type": "code",
   "execution_count": 53,
   "id": "58bcccb7",
   "metadata": {
    "ExecuteTime": {
     "end_time": "2022-05-10T18:18:23.318057Z",
     "start_time": "2022-05-10T18:18:23.297049Z"
    }
   },
   "outputs": [
    {
     "data": {
      "text/plain": [
       "33       1\n",
       "11       1\n",
       "10       3\n",
       "9        6\n",
       "8       13\n",
       "7       38\n",
       "6      272\n",
       "5     1601\n",
       "4     6882\n",
       "3     9824\n",
       "2     2760\n",
       "1      199\n",
       "0       13\n",
       "Name: bedrooms, dtype: int64"
      ]
     },
     "execution_count": 53,
     "metadata": {},
     "output_type": "execute_result"
    }
   ],
   "source": [
    "#5) Qual a casa com o maior número de quartos?\n",
    "data['bedrooms'].value_counts().sort_index(ascending=False)"
   ]
  }
 ],
 "metadata": {
  "kernelspec": {
   "display_name": "Python 3 (ipykernel)",
   "language": "python",
   "name": "python3"
  },
  "language_info": {
   "codemirror_mode": {
    "name": "ipython",
    "version": 3
   },
   "file_extension": ".py",
   "mimetype": "text/x-python",
   "name": "python",
   "nbconvert_exporter": "python",
   "pygments_lexer": "ipython3",
   "version": "3.8.13"
  },
  "varInspector": {
   "cols": {
    "lenName": 16,
    "lenType": 16,
    "lenVar": 40
   },
   "kernels_config": {
    "python": {
     "delete_cmd_postfix": "",
     "delete_cmd_prefix": "del ",
     "library": "var_list.py",
     "varRefreshCmd": "print(var_dic_list())"
    },
    "r": {
     "delete_cmd_postfix": ") ",
     "delete_cmd_prefix": "rm(",
     "library": "var_list.r",
     "varRefreshCmd": "cat(var_dic_list()) "
    }
   },
   "types_to_exclude": [
    "module",
    "function",
    "builtin_function_or_method",
    "instance",
    "_Feature"
   ],
   "window_display": false
  }
 },
 "nbformat": 4,
 "nbformat_minor": 5
}
